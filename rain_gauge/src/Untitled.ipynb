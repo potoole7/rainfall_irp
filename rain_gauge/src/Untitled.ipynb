{
 "cells": [
  {
   "cell_type": "code",
   "execution_count": 5,
   "id": "fccb8a8b-d784-4275-83f8-8839117f131c",
   "metadata": {},
   "outputs": [],
   "source": [
    "import os\n",
    "from scipy.io import netcdf\n",
    "import numpy as np\n",
    "import matplotlib\n",
    "import matplotlib.pyplot as plt"
   ]
  },
  {
   "cell_type": "code",
   "execution_count": 3,
   "id": "9230f622-642b-4787-8254-db42928aa382",
   "metadata": {},
   "outputs": [],
   "source": [
    "os.chdir('../')"
   ]
  },
  {
   "cell_type": "code",
   "execution_count": 9,
   "id": "ab6a8a9f-f6c0-4cb3-81e8-2a5fbc77d0af",
   "metadata": {},
   "outputs": [
    {
     "name": "stderr",
     "output_type": "stream",
     "text": [
      "/tmp/ipykernel_185879/358619896.py:1: DeprecationWarning: Please use `NetCDFFile` from the `scipy.io` namespace, the `scipy.io.netcdf` namespace is deprecated.\n",
      "  file2read = netcdf.NetCDFFile('data/arm_sonde_data/sgpinterpolatedsondeC1.c1.20220401.000030.custom.nc','r')\n",
      "/home/paddy7wb/.local/lib/python3.9/site-packages/scipy/io/_netcdf.py:305: RuntimeWarning: Cannot close a netcdf_file opened with mmap=True, when netcdf_variables or arrays referring to its data still exist. All data arrays obtained from such files refer directly to data on disk, and must be copied before the file can be cleanly closed. (See netcdf_file docstring for more information on mmap.)\n",
      "  warnings.warn((\n"
     ]
    }
   ],
   "source": [
    "file2read = netcdf.NetCDFFile('data/arm_sonde_data/sgpinterpolatedsondeC1.c1.20220401.000030.custom.nc','r')\n",
    "var = 'S'\n",
    "temp = file2read.variables['temp'] # var can be 'Theta', 'S', 'V', 'U' etc..\n",
    "data = temp[:]*1\n",
    "file2read.close()"
   ]
  },
  {
   "cell_type": "code",
   "execution_count": 21,
   "id": "03e40a51-f3f2-46b4-a1b7-1f408050b687",
   "metadata": {},
   "outputs": [
    {
     "ename": "ValueError",
     "evalue": "Unable to parse dataset contents. Consider running checks on dataset",
     "output_type": "error",
     "traceback": [
      "\u001b[0;31m---------------------------------------------------------------------------\u001b[0m",
      "\u001b[0;31mIndexError\u001b[0m                                Traceback (most recent call last)",
      "File \u001b[0;32m~/.local/lib/python3.9/site-packages/nctoolkit/api.py:1508\u001b[0m, in \u001b[0;36mDataSet.show_contents\u001b[0;34m(self, n)\u001b[0m\n\u001b[1;32m   1507\u001b[0m \u001b[38;5;28;01mwhile\u001b[39;00m \u001b[38;5;28;01mTrue\u001b[39;00m:\n\u001b[0;32m-> 1508\u001b[0m     \u001b[38;5;28;01mif\u001b[39;00m \u001b[43mout_inc\u001b[49m\u001b[43m[\u001b[49m\u001b[43mi\u001b[49m\u001b[43m]\u001b[49m:\n\u001b[1;32m   1509\u001b[0m         \u001b[38;5;28;01mbreak\u001b[39;00m\n",
      "\u001b[0;31mIndexError\u001b[0m: list index out of range",
      "\nDuring handling of the above exception, another exception occurred:\n",
      "\u001b[0;31mValueError\u001b[0m                                Traceback (most recent call last)",
      "Cell \u001b[0;32mIn[21], line 4\u001b[0m\n\u001b[1;32m      2\u001b[0m \u001b[38;5;66;03m# fp='data/arm_sonde_data/sgpinterpolatedsondeC1.c1.20220401.000030.custom.nc'\u001b[39;00m\n\u001b[1;32m      3\u001b[0m fp \u001b[38;5;241m=\u001b[39m \u001b[38;5;124m'\u001b[39m\u001b[38;5;124mdata/arm_precip_data/sgpprecipmetI10.b1.20220401.000100.custom.nc\u001b[39m\u001b[38;5;124m'\u001b[39m\n\u001b[0;32m----> 4\u001b[0m data \u001b[38;5;241m=\u001b[39m \u001b[43mnc\u001b[49m\u001b[38;5;241;43m.\u001b[39;49m\u001b[43mopen_data\u001b[49m\u001b[43m(\u001b[49m\u001b[43mfp\u001b[49m\u001b[43m)\u001b[49m\n\u001b[1;32m      5\u001b[0m \u001b[38;5;66;03m# data.plot()\u001b[39;00m\n",
      "File \u001b[0;32m~/.local/lib/python3.9/site-packages/nctoolkit/api.py:768\u001b[0m, in \u001b[0;36mopen_data\u001b[0;34m(x, checks, **kwargs)\u001b[0m\n\u001b[1;32m    765\u001b[0m d\u001b[38;5;241m.\u001b[39m_thredds \u001b[38;5;241m=\u001b[39m thredds\n\u001b[1;32m    767\u001b[0m \u001b[38;5;28;01mif\u001b[39;00m (\u001b[38;5;28mlen\u001b[39m(d) \u001b[38;5;241m==\u001b[39m \u001b[38;5;241m1\u001b[39m) \u001b[38;5;129;01mand\u001b[39;00m checks \u001b[38;5;129;01mand\u001b[39;00m (thredds \u001b[38;5;129;01mis\u001b[39;00m \u001b[38;5;28;01mFalse\u001b[39;00m):\n\u001b[0;32m--> 768\u001b[0m     d_contents \u001b[38;5;241m=\u001b[39m \u001b[43md\u001b[49m\u001b[38;5;241;43m.\u001b[39;49m\u001b[43mcontents\u001b[49m\u001b[38;5;241m.\u001b[39mreset_index(drop\u001b[38;5;241m=\u001b[39m\u001b[38;5;28;01mTrue\u001b[39;00m)\n\u001b[1;32m    769\u001b[0m     \u001b[38;5;28;01mtry\u001b[39;00m:\n\u001b[1;32m    770\u001b[0m         d_sub \u001b[38;5;241m=\u001b[39m d_contents\u001b[38;5;241m.\u001b[39mquery(\u001b[38;5;124m\"\u001b[39m\u001b[38;5;124mfill_value == 0.0\u001b[39m\u001b[38;5;124m\"\u001b[39m)\u001b[38;5;241m.\u001b[39mreset_index(drop\u001b[38;5;241m=\u001b[39m\u001b[38;5;28;01mTrue\u001b[39;00m)\n",
      "File \u001b[0;32m~/.local/lib/python3.9/site-packages/nctoolkit/api.py:1700\u001b[0m, in \u001b[0;36mDataSet.contents\u001b[0;34m(self)\u001b[0m\n\u001b[1;32m   1697\u001b[0m \u001b[38;5;28;01mif\u001b[39;00m n_commands \u001b[38;5;241m==\u001b[39m \u001b[38;5;28mlen\u001b[39m(\u001b[38;5;28mself\u001b[39m\u001b[38;5;241m.\u001b[39m_hold_history):\n\u001b[1;32m   1698\u001b[0m     \u001b[38;5;28;01mreturn\u001b[39;00m \u001b[38;5;28mself\u001b[39m\u001b[38;5;241m.\u001b[39m_atts[\u001b[38;5;124m\"\u001b[39m\u001b[38;5;124mcontents\u001b[39m\u001b[38;5;124m\"\u001b[39m][\u001b[38;5;241m0\u001b[39m]\n\u001b[0;32m-> 1700\u001b[0m df \u001b[38;5;241m=\u001b[39m \u001b[38;5;28;43mself\u001b[39;49m\u001b[38;5;241;43m.\u001b[39;49m\u001b[43mshow_contents\u001b[49m\u001b[43m(\u001b[49m\u001b[43m)\u001b[49m\n\u001b[1;32m   1701\u001b[0m \u001b[38;5;28mself\u001b[39m\u001b[38;5;241m.\u001b[39m_atts[\u001b[38;5;124m\"\u001b[39m\u001b[38;5;124mcontents\u001b[39m\u001b[38;5;124m\"\u001b[39m][\u001b[38;5;241m0\u001b[39m] \u001b[38;5;241m=\u001b[39m df\n\u001b[1;32m   1702\u001b[0m \u001b[38;5;28mself\u001b[39m\u001b[38;5;241m.\u001b[39m_atts[\u001b[38;5;124m\"\u001b[39m\u001b[38;5;124mcontents\u001b[39m\u001b[38;5;124m\"\u001b[39m][\u001b[38;5;241m1\u001b[39m] \u001b[38;5;241m=\u001b[39m \u001b[38;5;28mlen\u001b[39m(\u001b[38;5;28mself\u001b[39m\u001b[38;5;241m.\u001b[39m_hold_history)\n",
      "File \u001b[0;32m~/.local/lib/python3.9/site-packages/nctoolkit/api.py:1677\u001b[0m, in \u001b[0;36mDataSet.show_contents\u001b[0;34m(self, n)\u001b[0m\n\u001b[1;32m   1675\u001b[0m         \u001b[38;5;28;01mreturn\u001b[39;00m pd\u001b[38;5;241m.\u001b[39mconcat(list_contents)\u001b[38;5;241m.\u001b[39mset_index(\u001b[38;5;124m\"\u001b[39m\u001b[38;5;124mfile\u001b[39m\u001b[38;5;124m\"\u001b[39m)\n\u001b[1;32m   1676\u001b[0m \u001b[38;5;28;01mexcept\u001b[39;00m:\n\u001b[0;32m-> 1677\u001b[0m     \u001b[38;5;28;01mraise\u001b[39;00m \u001b[38;5;167;01mValueError\u001b[39;00m(\n\u001b[1;32m   1678\u001b[0m         \u001b[38;5;124m\"\u001b[39m\u001b[38;5;124mUnable to parse dataset contents. Consider running checks on dataset\u001b[39m\u001b[38;5;124m\"\u001b[39m\n\u001b[1;32m   1679\u001b[0m     )\n",
      "\u001b[0;31mValueError\u001b[0m: Unable to parse dataset contents. Consider running checks on dataset"
     ]
    }
   ],
   "source": [
    "import nctoolkit as nc\n",
    "# fp='data/arm_sonde_data/sgpinterpolatedsondeC1.c1.20220401.000030.custom.nc'\n",
    "fp = 'data/arm_precip_data/sgpprecipmetI10.b1.20220401.000100.custom.nc'\n",
    "data = nc.open_data(fp)\n",
    "# data.plot()"
   ]
  },
  {
   "cell_type": "code",
   "execution_count": 22,
   "id": "01b8de20-dbac-464d-b422-45ddbaf0e078",
   "metadata": {},
   "outputs": [
    {
     "data": {
      "text/plain": [
       "'data/arm_precip_data/sgpprecipmetI10.b1.20220401.000100.custom.nc'"
      ]
     },
     "execution_count": 22,
     "metadata": {},
     "output_type": "execute_result"
    }
   ],
   "source": [
    "fp"
   ]
  }
 ],
 "metadata": {
  "kernelspec": {
   "display_name": "Python 3 (ipykernel)",
   "language": "python",
   "name": "python3"
  },
  "language_info": {
   "codemirror_mode": {
    "name": "ipython",
    "version": 3
   },
   "file_extension": ".py",
   "mimetype": "text/x-python",
   "name": "python",
   "nbconvert_exporter": "python",
   "pygments_lexer": "ipython3",
   "version": "3.9.2"
  }
 },
 "nbformat": 4,
 "nbformat_minor": 5
}
